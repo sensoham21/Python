{
 "cells": [
  {
   "cell_type": "code",
   "execution_count": 39,
   "metadata": {},
   "outputs": [],
   "source": [
    "f=open('C:\\\\Users\\Desktop\\soham.txt','r').read()\n",
    "wr=open('C:\\\\Users\\Desktop\\soham1.txt','w')"
   ]
  },
  {
   "cell_type": "code",
   "execution_count": 40,
   "metadata": {},
   "outputs": [],
   "source": [
    "base = \"INSERT INTO photo_tags(photo_id, tag_id) VALUES \""
   ]
  },
  {
   "cell_type": "code",
   "execution_count": 41,
   "metadata": {},
   "outputs": [
    {
     "data": {
      "text/plain": [
       "5169"
      ]
     },
     "execution_count": 41,
     "metadata": {},
     "output_type": "execute_result"
    }
   ],
   "source": [
    "import re\n",
    "count=0;\n",
    "tokens = re.split('\\),',f)\n",
    "query=''\n",
    "for token in tokens:\n",
    "    query=query+token+'),'\n",
    "    count=count+1;\n",
    "    if count==900:\n",
    "        wr.write(base+' '+query+';'+'\\n')\n",
    "        count=0\n",
    "        query=''\n",
    "wr.write(base+' '+query+';'+'\\n')"
   ]
  },
  {
   "cell_type": "code",
   "execution_count": null,
   "metadata": {},
   "outputs": [],
   "source": []
  }
 ],
 "metadata": {
  "kernelspec": {
   "display_name": "Python 3",
   "language": "python",
   "name": "python3"
  },
  "language_info": {
   "codemirror_mode": {
    "name": "ipython",
    "version": 3
   },
   "file_extension": ".py",
   "mimetype": "text/x-python",
   "name": "python",
   "nbconvert_exporter": "python",
   "pygments_lexer": "ipython3",
   "version": "3.7.1"
  }
 },
 "nbformat": 4,
 "nbformat_minor": 2
}
